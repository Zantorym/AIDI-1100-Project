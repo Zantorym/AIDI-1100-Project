{
  "nbformat": 4,
  "nbformat_minor": 0,
  "metadata": {
    "colab": {
      "name": "number_of_stock_symbol.ipynb",
      "provenance": [],
      "mount_file_id": "1SHHEMYrIOKAYcLE5yoqIqVoElXp7UEho",
      "authorship_tag": "ABX9TyNoQQdLsVrfrvGeIQG7eYhW",
      "include_colab_link": true
    },
    "kernelspec": {
      "name": "python3",
      "display_name": "Python 3"
    },
    "language_info": {
      "name": "python"
    }
  },
  "cells": [
    {
      "cell_type": "markdown",
      "metadata": {
        "id": "view-in-github",
        "colab_type": "text"
      },
      "source": [
        "<a href=\"https://colab.research.google.com/github/Zantorym/AIDI-1100-Project/blob/review/number_of_stock_symbol.ipynb\" target=\"_parent\"><img src=\"https://colab.research.google.com/assets/colab-badge.svg\" alt=\"Open In Colab\"/></a>"
      ]
    },
    {
      "cell_type": "code",
      "metadata": {
        "id": "RRSSatcDI9Sw"
      },
      "source": [
        "import pandas as pd\n",
        "import pickle\n",
        "import re\n",
        "\n",
        "news_content_path = '/content/drive/MyDrive/Durham College/AIDI1100/scraped_articles.pickle'\n",
        "\n",
        "df = pd.read_pickle(news_content_path)\n",
        "corpus = ''\n",
        "for x in df:\n",
        "  corpus += ' '.join(str(e) for e in x)"
      ],
      "execution_count": 16,
      "outputs": []
    },
    {
      "cell_type": "code",
      "metadata": {
        "id": "UHHt7w58JP2Z"
      },
      "source": [
        "def tickerCapture(corpus:str) -> list:\n",
        "    \"\"\"Returns a list of tuples that have this format (<Exchange>, <ticker>)\n",
        "\n",
        "    Args:\n",
        "        corpus (str): String that contains exchang and ticker info\n",
        "\n",
        "    Returns:\n",
        "        list: [(<Exchange>, <ticker>)] list of <exchange> <ticker> data\n",
        "    \"\"\"\n",
        "     # Expected formats examples: (NYSE: HMLP) and  (NYSE/LSE: CCL; NYSE:CUK)\n",
        "     # Example return [('NYSE', 'HMLP'), ('NYSE/LSE', 'CCL'), ('NYSE', 'CUK')]\n",
        "\n",
        "    regexpattern = r'\\b\\(?(?P<exchange>[A-Z\\/]+):\\s?(?P<ticker>[A-Z]+)(?:\\)|;)'\n",
        "\n",
        "    result = re.findall(regexpattern, corpus)\n",
        "    \n",
        "    return result"
      ],
      "execution_count": 8,
      "outputs": []
    },
    {
      "cell_type": "code",
      "metadata": {
        "id": "ezWoxrBfKEWl"
      },
      "source": [
        "tickers = tickerCapture(corpus)"
      ],
      "execution_count": 23,
      "outputs": []
    },
    {
      "cell_type": "code",
      "metadata": {
        "id": "PNI2nJ5fKMRW"
      },
      "source": [
        "tickers = list(set(tickers))"
      ],
      "execution_count": 24,
      "outputs": []
    },
    {
      "cell_type": "code",
      "metadata": {
        "colab": {
          "base_uri": "https://localhost:8080/"
        },
        "id": "idVbhOu8Luge",
        "outputId": "9094b69e-741d-4fe3-bc60-4359a08195e9"
      },
      "source": [
        "len(tickers)"
      ],
      "execution_count": 26,
      "outputs": [
        {
          "output_type": "execute_result",
          "data": {
            "text/plain": [
              "1098"
            ]
          },
          "metadata": {},
          "execution_count": 26
        }
      ]
    }
  ]
}