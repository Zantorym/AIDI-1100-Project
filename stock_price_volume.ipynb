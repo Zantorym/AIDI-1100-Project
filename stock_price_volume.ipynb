{
  "nbformat": 4,
  "nbformat_minor": 0,
  "metadata": {
    "colab": {
      "name": "stock_price_volume.ipynb",
      "provenance": []
    },
    "kernelspec": {
      "name": "python3",
      "display_name": "Python 3"
    },
    "language_info": {
      "name": "python"
    }
  },
  "cells": [
    {
      "cell_type": "code",
      "metadata": {
        "id": "A_LTaoTpbfTU"
      },
      "source": [
        "from yahoo_fin.stock_info import get_data"
      ],
      "execution_count": 14,
      "outputs": []
    },
    {
      "cell_type": "markdown",
      "metadata": {
        "id": "KZyjHDrmbB6W"
      },
      "source": [
        "##These are the few stock symbols representing each automobile manufacturer company. \n",
        "[TSLA, STLA, TM, GM, LCID, F, HMC, RACE]"
      ]
    },
    {
      "cell_type": "code",
      "metadata": {
        "id": "qRSHQke5eVAT"
      },
      "source": [
        "import pandas as pd\n",
        "import pickle\n",
        "import re\n",
        "\n",
        "news_content_path = '/content/drive/MyDrive/news_scrap/scraped_articles.pickle'\n",
        "\n",
        "df = pd.read_pickle(news_content_path)\n",
        "corpus = ''\n",
        "for x in df:\n",
        "  corpus += ' '.join(str(e) for e in x)"
      ],
      "execution_count": 15,
      "outputs": []
    },
    {
      "cell_type": "code",
      "metadata": {
        "id": "gBZLU0Tzemhf"
      },
      "source": [
        "def tickerCapture(corpus:str) -> list:\n",
        "    \"\"\"Returns a list of tuples that have this format (<Exchange>, <ticker>)\n",
        "\n",
        "    Args:\n",
        "        corpus (str): String that contains exchang and ticker info\n",
        "\n",
        "    Returns:\n",
        "        list: [(<Exchange>, <ticker>)] list of <exchange> <ticker> data\n",
        "    \"\"\"\n",
        "     # Expected formats examples: (NYSE: HMLP) and  (NYSE/LSE: CCL; NYSE:CUK)\n",
        "     # Example return [('NYSE', 'HMLP'), ('NYSE/LSE', 'CCL'), ('NYSE', 'CUK')]\n",
        "\n",
        "    regexpattern = r'\\b\\(?(?P<exchange>[A-Z\\/]+):\\s?(?P<ticker>[A-Z]+)(?:\\)|;)'\n",
        "\n",
        "    result = re.findall(regexpattern, corpus)\n",
        "    \n",
        "    return result"
      ],
      "execution_count": 16,
      "outputs": []
    },
    {
      "cell_type": "code",
      "metadata": {
        "colab": {
          "base_uri": "https://localhost:8080/"
        },
        "id": "vmuiwCNGer4C",
        "outputId": "d925d3ac-2166-4399-b7c3-6d13a1a2a3b6"
      },
      "source": [
        "tickers = tickerCapture(corpus)\n",
        "tickers = list(set(tickers))\n",
        "len(tickers)"
      ],
      "execution_count": 17,
      "outputs": [
        {
          "output_type": "execute_result",
          "data": {
            "text/plain": [
              "1098"
            ]
          },
          "metadata": {},
          "execution_count": 17
        }
      ]
    },
    {
      "cell_type": "code",
      "metadata": {
        "id": "bx4OqR8oe4-x"
      },
      "source": [
        "#remove duplicacy in the list of stock symbols\n",
        "stock_symbol = []\n",
        "for symbol in tickers:\n",
        "  stock_symbol.append(symbol[1])\n",
        "stock_symbol = list(dict.fromkeys(stock_symbol))"
      ],
      "execution_count": 18,
      "outputs": []
    },
    {
      "cell_type": "code",
      "metadata": {
        "id": "DT07ah1Ca6A8"
      },
      "source": [
        "#The code will check if the listed automobile manufacturer company's stock symbols are present in our scrapped article.\n",
        "#if true then it will store in the stock_list_auto list class.\n",
        "stock_list_auto = []\n",
        "\n",
        "automobile_manf = ['TSLA','STLA','TM','GM','LCID','F','HMC','RACE']\n",
        "for symbol in stock_symbol:\n",
        "  if symbol in automobile_manf:\n",
        "    stock_list_auto.append(symbol)\n",
        "  else:\n",
        "    continue\n",
        "#To retrieve a single ticker stats for instance 'TSLA'(Tesla) in this case for 60 days (2months).\n",
        "# start_date format mm/dd/yyyy & end_date = mm/dd/yyyy\n",
        "stock_data = get_data('TSLA', start_date=\"04/30/2021\", end_date=\"07/01/2021\", index_as_date = True, interval='1d')\n"
      ],
      "execution_count": 21,
      "outputs": []
    },
    {
      "cell_type": "code",
      "metadata": {
        "id": "I-xmkRL1g2AV"
      },
      "source": [
        "#Or resuable code stock_data by passing each tickers with start_date and end_date\n",
        "def stock_data(start_date,end_date,ticker):\n",
        "  k = get_data(ticker, start_date=start_date, end_date=end_date, index_as_date = True, interval='1d')\n",
        "  resultant = k[['close','volume']]\n",
        "  return resultant"
      ],
      "execution_count": 29,
      "outputs": []
    },
    {
      "cell_type": "code",
      "metadata": {
        "id": "uZDho9EafVOh"
      },
      "source": [
        "#stock_data() takes three param start_date(mm/dd/yyyy), end_date(mm/dd/yyyy) and ticker.\n",
        "stock_data('03/03/2019','05/04/2019','TSLA')"
      ],
      "execution_count": 31,
      "outputs": []
    },
    {
      "cell_type": "code",
      "metadata": {
        "id": "-vOo_XXOjlAQ"
      },
      "source": [
        ""
      ],
      "execution_count": null,
      "outputs": []
    }
  ]
}
